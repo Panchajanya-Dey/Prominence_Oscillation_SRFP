{
 "cells": [
  {
   "cell_type": "code",
   "execution_count": null,
   "id": "f8af4002",
   "metadata": {},
   "outputs": [],
   "source": [
    "# These codes are developed by Panchajanya Dey, Indian Institute of Science, Bangalore\n",
    "# as a part of the SRFP project prominence oscillation in solar corona funded by Indian Academy of Science (2023)\n",
    "# this folder contains the codes are for downloading the necessary fits files, modifying them by multi-gaussian image processing\n",
    "# and creating an animation that helps to identify the location of the prominence oscillation\n",
    "# the next part is to determine the pixel coordinates and creating a 4-pixel wide slit and get the corresponding XT map\n",
    "# which is also covered in this project\n",
    "# finally handpicking the prominence oscillation from the XT map and fitting it to a damped harmonic oscillation is done\n",
    "# the final result is the period, damping time and amplitude determination for a LAL prominence oscillation\n",
    "# I thank Prof. Vaibhav Pant (ARIES) and his group member Upasna Baweja (ARIES) for helping me throughout the project\n",
    "# and clearing my doubts\n",
    "# for comments, suggestions and clarity regarding the code contact at the following email address\n",
    "# panchajanyad@iisc.ac.in"
   ]
  },
  {
   "cell_type": "code",
   "execution_count": 3,
   "id": "adac134e",
   "metadata": {},
   "outputs": [],
   "source": [
    "import sunpy.map\n",
    "#from sunpy.instr.aia import aiaprep\n",
    "from sunpy.net import Fido, attrs as a\n",
    "\n",
    "from astropy.coordinates import SkyCoord\n",
    "from astropy import units as u\n",
    "\n",
    "import warnings\n",
    "warnings.filterwarnings(\"ignore\")"
   ]
  },
  {
   "cell_type": "code",
   "execution_count": 4,
   "id": "b92cbf6b",
   "metadata": {},
   "outputs": [
    {
     "ename": "AttributeError",
     "evalue": "module 'sunpy.net.vso.attrs' has no attribute 'Sample'",
     "output_type": "error",
     "traceback": [
      "\u001b[1;31m---------------------------------------------------------------------------\u001b[0m",
      "\u001b[1;31mAttributeError\u001b[0m                            Traceback (most recent call last)",
      "Input \u001b[1;32mIn [4]\u001b[0m, in \u001b[0;36m<cell line: 1>\u001b[1;34m()\u001b[0m\n\u001b[0;32m      1\u001b[0m result \u001b[38;5;241m=\u001b[39m Fido\u001b[38;5;241m.\u001b[39msearch(a\u001b[38;5;241m.\u001b[39mTime(\u001b[38;5;124m'\u001b[39m\u001b[38;5;124m2016-01-26T17:00:00\u001b[39m\u001b[38;5;124m'\u001b[39m, \u001b[38;5;124m'\u001b[39m\u001b[38;5;124m2016-01-26T17:10:00\u001b[39m\u001b[38;5;124m'\u001b[39m), \n\u001b[0;32m      2\u001b[0m                      a\u001b[38;5;241m.\u001b[39mInstrument(\u001b[38;5;124m\"\u001b[39m\u001b[38;5;124maia\u001b[39m\u001b[38;5;124m\"\u001b[39m), a\u001b[38;5;241m.\u001b[39mWavelength(\u001b[38;5;241m171\u001b[39m\u001b[38;5;241m*\u001b[39mu\u001b[38;5;241m.\u001b[39mangstrom), \n\u001b[1;32m----> 3\u001b[0m                      \u001b[43ma\u001b[49m\u001b[38;5;241;43m.\u001b[39;49m\u001b[43mvso\u001b[49m\u001b[38;5;241;43m.\u001b[39;49m\u001b[43mSample\u001b[49m(\u001b[38;5;241m12\u001b[39m\u001b[38;5;241m*\u001b[39mu\u001b[38;5;241m.\u001b[39msecond))\n\u001b[0;32m      4\u001b[0m result\n",
      "\u001b[1;31mAttributeError\u001b[0m: module 'sunpy.net.vso.attrs' has no attribute 'Sample'"
     ]
    }
   ],
   "source": [
    "result = Fido.search(a.Time('2016-01-26T17:00:00', '2016-01-26T17:10:00'), \n",
    "                     a.Instrument(\"aia\"), a.Wavelength(171*u.angstrom), \n",
    "                     a.vso.Sample(12*u.second))\n",
    "result"
   ]
  }
 ],
 "metadata": {
  "kernelspec": {
   "display_name": "Python 3 (ipykernel)",
   "language": "python",
   "name": "python3"
  },
  "language_info": {
   "codemirror_mode": {
    "name": "ipython",
    "version": 3
   },
   "file_extension": ".py",
   "mimetype": "text/x-python",
   "name": "python",
   "nbconvert_exporter": "python",
   "pygments_lexer": "ipython3",
   "version": "3.10.0"
  }
 },
 "nbformat": 4,
 "nbformat_minor": 5
}
