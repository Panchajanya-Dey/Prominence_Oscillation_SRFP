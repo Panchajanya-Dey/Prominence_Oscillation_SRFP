{
 "cells": [
  {
   "cell_type": "code",
   "execution_count": null,
   "id": "2ef45a9c",
   "metadata": {},
   "outputs": [],
   "source": [
    "# These codes are developed by Panchajanya Dey, Indian Institute of Science, Bangalore\n",
    "# as a part of the SRFP project prominence oscillation in solar corona funded by Indian Academy of Science (2023)\n",
    "# this folder contains the codes are for downloading the necessary fits files, modifying them by multi-gaussian image processing\n",
    "# and creating an animation that helps to identify the location of the prominence oscillation\n",
    "# the next part is to determine the pixel coordinates and creating a 4-pixel wide slit and get the corresponding XT map\n",
    "# which is also covered in this project\n",
    "# finally handpicking the prominence oscillation from the XT map and fitting it to a damped harmonic oscillation is done\n",
    "# the final result is the period, damping time and amplitude determination for a LAL prominence oscillation\n",
    "# I thank Prof. Vaibhav Pant (ARIES) and his group member Upasna Baweja (ARIES) for helping me throughout the project\n",
    "# and clearing my doubts\n",
    "# for comments, suggestions and clarity regarding the code contact at the following email address\n",
    "# panchajanyad@iisc.ac.in"
   ]
  },
  {
   "cell_type": "code",
   "execution_count": null,
   "id": "5c9b1f58",
   "metadata": {},
   "outputs": [
    {
     "data": {
      "application/vnd.jupyter.widget-view+json": {
       "model_id": "5a241b02fba04ce0b31285935f5ec4da",
       "version_major": 2,
       "version_minor": 0
      },
      "text/plain": [
       "Files Downloaded:   0%|          | 0/991 [00:00<?, ?file/s]"
      ]
     },
     "metadata": {},
     "output_type": "display_data"
    }
   ],
   "source": [
    "import astropy.units as u\n",
    "import sunpy.net.attrs as a\n",
    "from sunpy.net import Fido, attrs as a\n",
    "\n",
    "# Define the time range and wavelength of interest\n",
    "time_range = a.Time((2016, 1, 26, 22, 23, 47), (2016, 1, 27, 1, 41, 59))\n",
    "wavelength = a.Wavelength(171 * u.angstrom)\n",
    "\n",
    "# Search for AIA data using Fido\n",
    "result = Fido.search(time_range, a.Instrument.aia, wavelength)\n",
    "\n",
    "# Download the data\n",
    "path = r\"C:\\Users\\deych\\Desktop\\Desktop Old\\Summer Projects\\SRFP\\Python and Jupyter\\FITS Files\\data14\"\n",
    "downloaded_files = Fido.fetch(result, path=path)"
   ]
  }
 ],
 "metadata": {
  "kernelspec": {
   "display_name": "Python 3 (ipykernel)",
   "language": "python",
   "name": "python3"
  },
  "language_info": {
   "codemirror_mode": {
    "name": "ipython",
    "version": 3
   },
   "file_extension": ".py",
   "mimetype": "text/x-python",
   "name": "python",
   "nbconvert_exporter": "python",
   "pygments_lexer": "ipython3",
   "version": "3.10.0"
  }
 },
 "nbformat": 4,
 "nbformat_minor": 5
}
